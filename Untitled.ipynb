{
 "cells": [
  {
   "cell_type": "markdown",
   "metadata": {},
   "source": [
    "Shapes and Ranks"
   ]
  },
  {
   "cell_type": "code",
   "execution_count": 1,
   "metadata": {},
   "outputs": [],
   "source": [
    "import tensorflow as tf\n",
    "import numpy as np"
   ]
  },
  {
   "cell_type": "code",
   "execution_count": 2,
   "metadata": {},
   "outputs": [
    {
     "name": "stdout",
     "output_type": "stream",
     "text": [
      "Rank: 0\n",
      "Shape: []\n"
     ]
    }
   ],
   "source": [
    "a = tf.Variable(1)\n",
    "print('Rank: {}'.format(tf.rank(a)))\n",
    "print('Shape: {}'.format(tf.shape(a)))\n"
   ]
  },
  {
   "cell_type": "code",
   "execution_count": 6,
   "metadata": {},
   "outputs": [
    {
     "name": "stdout",
     "output_type": "stream",
     "text": [
      "Rank: 1\n",
      "Shape: [4]\n"
     ]
    }
   ],
   "source": [
    "b = tf.Variable([1, 2, 3, 4])\n",
    "print('Rank: {}'.format(tf.rank(b)))\n",
    "print('Shape: {}'.format(tf.shape(b)))\n"
   ]
  },
  {
   "cell_type": "code",
   "execution_count": 16,
   "metadata": {},
   "outputs": [
    {
     "name": "stdout",
     "output_type": "stream",
     "text": [
      "Rank: 2\n",
      "Shape: [2 4]\n",
      "tf.Tensor(8, shape=(), dtype=int32)\n"
     ]
    }
   ],
   "source": [
    "c = tf.Variable([[1, 2, 3, 4],[2, 4, 6, 8]])\n",
    "print('Rank: {}'.format(tf.rank(c)))\n",
    "print('Shape: {}'.format(tf.shape(c)))\n",
    "print(c[1,3])"
   ]
  },
  {
   "cell_type": "code",
   "execution_count": 23,
   "metadata": {},
   "outputs": [
    {
     "name": "stdout",
     "output_type": "stream",
     "text": [
      "Rank: 3\n",
      "Shape: [2 2 4]\n",
      "tf.Tensor(33, shape=(), dtype=int32)\n"
     ]
    }
   ],
   "source": [
    "d = tf.Variable([[[1, 2, 3, 4],[11, 22, 33, 44]],[[111, 222, 333, 444],[1111, 2222, 3333, 4444]]])\n",
    "print('Rank: {}'.format(tf.rank(d)))\n",
    "print('Shape: {}'.format(tf.shape(d)))\n",
    "print(d[0,1,2])"
   ]
  },
  {
   "cell_type": "code",
   "execution_count": null,
   "metadata": {},
   "outputs": [],
   "source": []
  }
 ],
 "metadata": {
  "kernelspec": {
   "display_name": "Python 3",
   "language": "python",
   "name": "python3"
  },
  "language_info": {
   "codemirror_mode": {
    "name": "ipython",
    "version": 3
   },
   "file_extension": ".py",
   "mimetype": "text/x-python",
   "name": "python",
   "nbconvert_exporter": "python",
   "pygments_lexer": "ipython3",
   "version": "3.6.12"
  }
 },
 "nbformat": 4,
 "nbformat_minor": 4
}
