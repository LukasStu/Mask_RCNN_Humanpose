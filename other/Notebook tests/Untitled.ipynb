{
 "cells": [
  {
   "cell_type": "code",
   "execution_count": 1,
   "metadata": {},
   "outputs": [],
   "source": [
    "import numpy as np\n",
    "import tensorflow as tf"
   ]
  },
  {
   "cell_type": "code",
   "execution_count": 2,
   "metadata": {},
   "outputs": [
    {
     "data": {
      "text/plain": [
       "<tf.Variable 'Variable:0' shape=(5, 4) dtype=float32, numpy=\n",
       "array([[0.2, 0.4, 0.5, 0.3],\n",
       "       [0.6, 0.4, 0.9, 0.8],\n",
       "       [0.2, 0.1, 0.2, 0.7],\n",
       "       [0.9, 0.5, 0.7, 0.4],\n",
       "       [0.4, 0.3, 0.6, 0.1]], dtype=float32)>"
      ]
     },
     "execution_count": 2,
     "metadata": {},
     "output_type": "execute_result"
    }
   ],
   "source": [
    "#[num_roi,(y1,x1,y2,x2)]\n",
    "\n",
    "boxes = tf.Variable([[0.2, 0.4, 0.5 ,0.3],\n",
    "                   [0.6, 0.4, 0.9 ,0.8],\n",
    "                   [0.2, 0.1, 0.2 ,0.7],\n",
    "                   [0.9, 0.5, 0.7 ,0.4],\n",
    "                   [0.4, 0.3, 0.6 ,0.1]])\n",
    "boxes"
   ]
  },
  {
   "cell_type": "code",
   "execution_count": 3,
   "metadata": {},
   "outputs": [
    {
     "data": {
      "text/plain": [
       "<tf.Tensor: shape=(10, 4), dtype=float32, numpy=\n",
       "array([[0.764972  , 0.6240908 , 0.8765495 , 0.77177787],\n",
       "       [0.55580485, 0.39900005, 0.21462071, 0.680037  ],\n",
       "       [0.16597521, 0.38515997, 0.68101656, 0.82549787],\n",
       "       [0.6916344 , 0.04733384, 0.4897381 , 0.09849119],\n",
       "       [0.6792551 , 0.9308542 , 0.7672365 , 0.98983943],\n",
       "       [0.12855697, 0.28885508, 0.32190168, 0.6146263 ],\n",
       "       [0.47772086, 0.32520795, 0.31930137, 0.694883  ],\n",
       "       [0.07872629, 0.46880054, 0.8449452 , 0.26058745],\n",
       "       [0.7380661 , 0.9288217 , 0.7589034 , 0.48207843],\n",
       "       [0.3175006 , 0.9213325 , 0.90953636, 0.4007938 ]], dtype=float32)>"
      ]
     },
     "execution_count": 3,
     "metadata": {},
     "output_type": "execute_result"
    }
   ],
   "source": [
    "boxes = tf.random.uniform(shape=[10,4])\n",
    "boxes"
   ]
  },
  {
   "cell_type": "code",
   "execution_count": 4,
   "metadata": {},
   "outputs": [
    {
     "name": "stdout",
     "output_type": "stream",
     "text": [
      "tf.Tensor(\n",
      "[[ 0.11157751]\n",
      " [-0.34118414]\n",
      " [ 0.51504135]\n",
      " [-0.20189631]\n",
      " [ 0.08798134]\n",
      " [ 0.19334471]\n",
      " [-0.15841949]\n",
      " [ 0.7662189 ]\n",
      " [ 0.02083731]\n",
      " [ 0.5920358 ]], shape=(10, 1), dtype=float32)\n"
     ]
    }
   ],
   "source": [
    "# Assign each ROI to a level in the pyramid based on the ROI area.\n",
    "y1, x1, y2, x2 = tf.split(boxes, 4, axis=1)\n",
    "h = y2 - y1\n",
    "w = x2 - x1\n",
    "print(h)"
   ]
  },
  {
   "cell_type": "code",
   "execution_count": 5,
   "metadata": {},
   "outputs": [],
   "source": [
    "def log2_graph(x):\n",
    "    return tf.math.log(x) / tf.math.log(2.0)"
   ]
  },
  {
   "cell_type": "code",
   "execution_count": 6,
   "metadata": {},
   "outputs": [
    {
     "name": "stdout",
     "output_type": "stream",
     "text": [
      "roi_level:  tf.Tensor(\n",
      "[[3]\n",
      " [4]\n",
      " [5]\n",
      " [4]\n",
      " [2]\n",
      " [4]\n",
      " [4]\n",
      " [4]\n",
      " [4]\n",
      " [4]], shape=(10, 1), dtype=int32)\n"
     ]
    }
   ],
   "source": [
    "# Equation 1 in the Feature Pyramid Networks paper. Account for\n",
    "# the fact that our coordinates are normalized here.\n",
    "# e.g. a 224x224 ROI (in pixels) maps to P4\n",
    "image_area = tf.Variable([1024. * 1024.])\n",
    "roi_level = log2_graph(tf.sqrt(h * w) / (224.0 / tf.sqrt(image_area)))\n",
    "roi_level = tf.minimum(5, tf.maximum(2, 4 + tf.cast(tf.round(roi_level), tf.int32)))\n",
    "print(\"roi_level: \",roi_level)"
   ]
  },
  {
   "cell_type": "code",
   "execution_count": 9,
   "metadata": {},
   "outputs": [
    {
     "name": "stdout",
     "output_type": "stream",
     "text": [
      "ix:  tf.Tensor([[4 0]], shape=(1, 2), dtype=int64)\n",
      "level_boxes:  tf.Tensor([0.6792551], shape=(1,), dtype=float32)\n",
      "box_indices:  tf.Tensor([4], shape=(1,), dtype=int32)\n",
      "box_to_level:  [<tf.Tensor: shape=(1, 2), dtype=int64, numpy=array([[4, 0]], dtype=int64)>]\n",
      "ix:  tf.Tensor([[0 0]], shape=(1, 2), dtype=int64)\n",
      "level_boxes:  tf.Tensor([0.764972], shape=(1,), dtype=float32)\n",
      "box_indices:  tf.Tensor([0], shape=(1,), dtype=int32)\n",
      "box_to_level:  [<tf.Tensor: shape=(1, 2), dtype=int64, numpy=array([[4, 0]], dtype=int64)>, <tf.Tensor: shape=(1, 2), dtype=int64, numpy=array([[0, 0]], dtype=int64)>]\n",
      "ix:  tf.Tensor(\n",
      "[[1 0]\n",
      " [3 0]\n",
      " [5 0]\n",
      " [6 0]\n",
      " [7 0]\n",
      " [8 0]\n",
      " [9 0]], shape=(7, 2), dtype=int64)\n",
      "level_boxes:  tf.Tensor(\n",
      "[0.55580485 0.6916344  0.12855697 0.47772086 0.07872629 0.7380661\n",
      " 0.3175006 ], shape=(7,), dtype=float32)\n",
      "box_indices:  tf.Tensor([1 3 5 6 7 8 9], shape=(7,), dtype=int32)\n",
      "box_to_level:  [<tf.Tensor: shape=(1, 2), dtype=int64, numpy=array([[4, 0]], dtype=int64)>, <tf.Tensor: shape=(1, 2), dtype=int64, numpy=array([[0, 0]], dtype=int64)>, <tf.Tensor: shape=(7, 2), dtype=int64, numpy=\n",
      "array([[1, 0],\n",
      "       [3, 0],\n",
      "       [5, 0],\n",
      "       [6, 0],\n",
      "       [7, 0],\n",
      "       [8, 0],\n",
      "       [9, 0]], dtype=int64)>]\n",
      "ix:  tf.Tensor([[2 0]], shape=(1, 2), dtype=int64)\n",
      "level_boxes:  tf.Tensor([0.16597521], shape=(1,), dtype=float32)\n",
      "box_indices:  tf.Tensor([2], shape=(1,), dtype=int32)\n",
      "box_to_level:  [<tf.Tensor: shape=(1, 2), dtype=int64, numpy=array([[4, 0]], dtype=int64)>, <tf.Tensor: shape=(1, 2), dtype=int64, numpy=array([[0, 0]], dtype=int64)>, <tf.Tensor: shape=(7, 2), dtype=int64, numpy=\n",
      "array([[1, 0],\n",
      "       [3, 0],\n",
      "       [5, 0],\n",
      "       [6, 0],\n",
      "       [7, 0],\n",
      "       [8, 0],\n",
      "       [9, 0]], dtype=int64)>, <tf.Tensor: shape=(1, 2), dtype=int64, numpy=array([[2, 0]], dtype=int64)>]\n"
     ]
    }
   ],
   "source": [
    "# Loop through levels and apply ROI pooling to each. P2 to P5.\n",
    "pooled = []\n",
    "box_to_level = []\n",
    "for i, level in enumerate(range(2, 6)):\n",
    "    ix = tf.where(tf.equal(roi_level, level))\n",
    "    print(\"ix: \",ix)\n",
    "    \n",
    "    level_boxes = tf.gather_nd(boxes, ix)\n",
    "    print(\"level_boxes: \",level_boxes)\n",
    "\n",
    "    # Box indicies for crop_and_resize.\n",
    "    box_indices = tf.cast(ix[:, 0], tf.int32)\n",
    "    print(\"box_indices: \",box_indices)\n",
    "\n",
    "    # Keep track of which box is mapped to which level\n",
    "    box_to_level.append(ix)\n",
    "    print(\"box_to_level: \",box_to_level)\n",
    "\n",
    "    # Stop gradient propogation to ROI proposals\n",
    "    level_boxes = tf.stop_gradient(level_boxes)\n",
    "    box_indices = tf.stop_gradient(box_indices)\n",
    "\n",
    "    # Crop and Resize\n",
    "    # From Mask R-CNN paper: \"We sample four regular locations, so\n",
    "    # that we can evaluate either max or average pooling. In fact,\n",
    "    # interpolating only a single value at each bin center (without\n",
    "    # pooling) is nearly as effective.\"\n",
    "    #\n",
    "    # Here we use the simplified approach of a single value per bin,\n",
    "    # which is how it's done in tf.crop_and_resize()\n",
    "    # Result: [batch * num_boxes, pool_height, pool_width, channels]\n",
    "    # pooled.append(tf.image.crop_and_resize(feature_maps[i], level_boxes, box_indices, self.pool_shape,method=\"bilinear\"))\n",
    "    #                                            image,       boxes,       box_indices, crop_size"
   ]
  },
  {
   "cell_type": "code",
   "execution_count": null,
   "metadata": {},
   "outputs": [],
   "source": []
  }
 ],
 "metadata": {
  "kernelspec": {
   "display_name": "Python 3",
   "language": "python",
   "name": "python3"
  },
  "language_info": {
   "codemirror_mode": {
    "name": "ipython",
    "version": 3
   },
   "file_extension": ".py",
   "mimetype": "text/x-python",
   "name": "python",
   "nbconvert_exporter": "python",
   "pygments_lexer": "ipython3",
   "version": "3.7.9"
  }
 },
 "nbformat": 4,
 "nbformat_minor": 4
}
